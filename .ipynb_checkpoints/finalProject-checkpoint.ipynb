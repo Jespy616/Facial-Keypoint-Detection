{
 "cells": [
  {
   "cell_type": "code",
   "execution_count": 4,
   "metadata": {},
   "outputs": [],
   "source": [
    "import numpy as np\n",
    "import pandas as pd\n",
    "from sklearn.impute import SimpleImputer"
   ]
  },
  {
   "cell_type": "code",
   "execution_count": null,
   "metadata": {},
   "outputs": [
    {
     "name": "stdout",
     "output_type": "stream",
     "text": [
      "<bound method NDFrame.head of              0          1          2          3          4          5   \\\n",
      "0     66.033564  39.002274  30.227008  36.421678  59.582075  39.647423   \n",
      "1     64.332936  34.970077  29.949277  33.448715   58.85617  35.274349   \n",
      "2     65.057053  34.909642  30.903789  34.909642     59.412  36.320968   \n",
      "3     65.225739  37.261774  32.023096  37.261774  60.003339  39.127179   \n",
      "4     66.725301  39.621261   32.24481  38.042032   58.56589  39.621261   \n",
      "...         ...        ...        ...        ...        ...        ...   \n",
      "7044  67.402546  31.842551  29.746749  38.632942         -1         -1   \n",
      "7045    66.1344  38.365501  30.478626  39.950198         -1         -1   \n",
      "7046  66.690732  36.845221   31.66642  39.685042         -1         -1   \n",
      "7047  70.965082  39.853666  30.543285  40.772339         -1         -1   \n",
      "7048  66.938311   43.42451  31.096059  39.528604         -1         -1   \n",
      "\n",
      "             6          7          8          9          10         11  \\\n",
      "0     73.130346  39.969997  36.356571  37.389402  23.452872  37.389402   \n",
      "1     70.722723  36.187166  36.034723  34.361532  24.472511  33.144443   \n",
      "2     70.984421  36.320968  37.678105  36.320968  24.976421  36.603221   \n",
      "3     72.314713  38.380967  37.618643  38.754115   25.30727  38.007903   \n",
      "4     72.515926  39.884466   36.98238  39.094852   22.50611  38.305237   \n",
      "...         ...        ...        ...        ...        ...        ...   \n",
      "7044         -1         -1         -1         -1         -1         -1   \n",
      "7045         -1         -1         -1         -1         -1         -1   \n",
      "7046         -1         -1         -1         -1         -1         -1   \n",
      "7047         -1         -1         -1         -1         -1         -1   \n",
      "7048         -1         -1         -1         -1         -1         -1   \n",
      "\n",
      "             12         13         14         15         16         17  \\\n",
      "0     56.953263  29.033648  80.227128  32.228138  40.227609  29.002322   \n",
      "1     53.987404  28.275949  78.634213  30.405923  42.728851  26.146043   \n",
      "2     55.742526  27.570947  78.887368  32.651621  42.193895  28.135453   \n",
      "3     56.433809  30.929864  77.910261  31.665725  41.671513   31.04999   \n",
      "4     57.249571  30.672177  77.762945  31.737247  38.035436  30.935382   \n",
      "...         ...        ...        ...        ...        ...        ...   \n",
      "7044         -1         -1         -1         -1         -1         -1   \n",
      "7045         -1         -1         -1         -1         -1         -1   \n",
      "7046         -1         -1         -1         -1         -1         -1   \n",
      "7047         -1         -1         -1         -1         -1         -1   \n",
      "7048         -1         -1         -1         -1         -1         -1   \n",
      "\n",
      "             18  \n",
      "0     16.356379  \n",
      "1     16.865362  \n",
      "2     16.791158  \n",
      "3     20.458017  \n",
      "4      15.92587  \n",
      "...         ...  \n",
      "7044         -1  \n",
      "7045         -1  \n",
      "7046         -1  \n",
      "7047         -1  \n",
      "7048         -1  \n",
      "\n",
      "[7049 rows x 19 columns]>\n"
     ]
    }
   ],
   "source": [
    "training = pd.read_csv('training.csv')\n",
    "testing = pd.read_csv('test.csv')\n",
    "\n",
    "# input -1 for missing values\n",
    "imputer = SimpleImputer(missing_values=np.nan, strategy='constant', fill_value=-1)\n",
    "\n",
    "# Convert back to dataframe and replace the missing values\n",
    "training = pd.DataFrame(imputer.fit_transform(training))\n",
    "\n",
    "# Get the last feature column\n",
    "lastFeature = training.iloc[:, -1]\n",
    "\n",
    "# Split the last feature by spaces\n",
    "splitFeatures = lastFeature.str.split(' ', expand=True)\n",
    "\n",
    "# Drop the original last feature and concatenate the new split features\n",
    "training = pd.concat([training.drop(training.columns[-1], axis=1), splitFeatures], axis=1)\n",
    "\n",
    "# Split target columns into a separate dataframe for training\n",
    "X_train = training.iloc[:, 0:19]\n",
    "print(X_train.head)\n",
    "\n",
    "\n",
    "# This was renaming all target columns to pixel_i as well--code added above fixes this\n",
    "# Rename the columns to pixel_i\n",
    "training.columns = [f'pixel_{i}' for i in range(training.shape[1])]\n",
    "\n",
    "\n",
    "# Same for testing\n",
    "testImg = testing.iloc[:, -1]\n",
    "splitTest = testImg.str.split(' ', expand=True)\n",
    "testing = pd.concat([testing.drop(testing.columns[-1], axis=1), splitTest], axis=1)\n",
    "\n",
    "# Rename the columns to pixel_i\n",
    "testing.columns = ['ImageId'] + [f'pixel_{i}' for i in range(1, testing.shape[1])]\n",
    "\n",
    "\n",
    "print(training.head)"
   ]
  },
  {
   "cell_type": "code",
   "execution_count": null,
   "metadata": {},
   "outputs": [],
   "source": []
  }
 ],
 "metadata": {
  "kernelspec": {
   "display_name": "Python [conda env:CS5640]",
   "language": "python",
   "name": "conda-env-CS5640-py"
  },
  "language_info": {
   "codemirror_mode": {
    "name": "ipython",
    "version": 3
   },
   "file_extension": ".py",
   "mimetype": "text/x-python",
   "name": "python",
   "nbconvert_exporter": "python",
   "pygments_lexer": "ipython3",
   "version": "3.12.5"
  }
 },
 "nbformat": 4,
 "nbformat_minor": 4
}
