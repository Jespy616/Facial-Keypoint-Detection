{
 "cells": [
  {
   "cell_type": "code",
   "execution_count": 1,
   "metadata": {},
   "outputs": [],
   "source": [
    "import numpy as np\n",
    "import pandas as pd\n",
    "from sklearn.impute import SimpleImputer "
   ]
  },
  {
   "cell_type": "code",
   "execution_count": 4,
   "metadata": {},
   "outputs": [],
   "source": [
    "training = pd.read_csv('training.csv')\n",
    "testing = pd.read_csv('test.csv')\n",
    "\n",
    "# input -1 for missing values\n",
    "imputer = SimpleImputer(missing_values=np.nan, strategy='constant', fill_value=-1)\n",
    "\n",
    "# Convert back to dataframe and replace the missing values\n",
    "training = pd.DataFrame(imputer.fit_transform(training))\n",
    "\n",
    "# Get the last feature column\n",
    "lastFeature = training.iloc[:, -1]\n",
    "\n",
    "# Split the last feature by spaces\n",
    "splitFeatures = lastFeature.str.split(' ', expand=True)\n",
    "\n",
    "# Drop the original last feature and concatenate the new split features\n",
    "training = pd.concat([training.drop(training.columns[-1], axis=1), splitFeatures], axis=1)\n",
    "\n",
    "# Rename the columns to pixel_i\n",
    "training.columns = [f'pixel_{i}' for i in range(training.shape[1])]\n",
    "\n",
    "\n",
    "# Same for testing\n",
    "testImg = testing.iloc[:, -1]\n",
    "splitTest = testImg.str.split(' ', expand=True)\n",
    "testing = pd.concat([testing.drop(testing.columns[-1], axis=1), splitTest], axis=1)\n",
    "\n",
    "# Rename the columns to pixel_i\n",
    "testing.columns = ['ImageId'] + [f'pixel_{i}' for i in range(1, testing.shape[1])]\n",
    "\n",
    "\n",
    "# print(training.head)"
   ]
  }
 ],
 "metadata": {
  "kernelspec": {
   "display_name": "Python 3",
   "language": "python",
   "name": "python3"
  },
  "language_info": {
   "codemirror_mode": {
    "name": "ipython",
    "version": 3
   },
   "file_extension": ".py",
   "mimetype": "text/x-python",
   "name": "python",
   "nbconvert_exporter": "python",
   "pygments_lexer": "ipython3",
   "version": "3.12.3"
  }
 },
 "nbformat": 4,
 "nbformat_minor": 2
}
