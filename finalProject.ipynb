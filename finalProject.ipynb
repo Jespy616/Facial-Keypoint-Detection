{
 "cells": [
  {
   "cell_type": "code",
   "execution_count": 40,
   "metadata": {},
   "outputs": [],
   "source": [
    "import numpy as np\n",
    "import pandas as pd\n",
    "from sklearn.impute import SimpleImputer\n",
    "from sklearn.model_selection import KFold, train_test_split\n",
    "from sklearn.metrics import mean_squared_error\n",
    "import tensorflow as tf"
   ]
  },
  {
   "cell_type": "code",
   "execution_count": 2,
   "metadata": {},
   "outputs": [],
   "source": [
    "training = pd.read_csv('training.csv')\n",
    "testing = pd.read_csv('test.csv')\n",
    "# input -1 for missing values\n",
    "imputer = SimpleImputer(missing_values=np.nan, strategy='constant', fill_value=-1)\n",
    "\n",
    "# This code was removing column names, my changes rename the columns so they keep original values now\n",
    "# Convert back to dataframe and replace the missing values\n",
    "training = pd.DataFrame(imputer.fit_transform(training), columns=training.columns)\n",
    "\n",
    "y_training = training.loc[:, :\"mouth_center_bottom_lip_y\"]\n",
    "\n",
    "\n",
    "# Get the last feature column\n",
    "lastFeature = training.iloc[:, -1]\n",
    "\n",
    "# Split the last feature by spaces\n",
    "splitFeatures = lastFeature.str.split(' ', expand=True)\n",
    "\n",
    "# Drop the original last feature and concatenate the new split features\n",
    "training = pd.concat([training.drop(training.columns[-1], axis=1), splitFeatures], axis=1)\n",
    "\n",
    "\n",
    "# I drop the first columns here so they aren't mislabeled, and this way we can just make this the X_train\n",
    "training.drop(training.columns[range(0, 30)], axis=1, inplace=True)\n",
    "\n",
    "\n",
    "# This was renaming all target columns to pixel_i as well--code added before getting the last feature column fixes this\n",
    "# Rename the columns to pixel_i\n",
    "training.columns = [f'pixel_{i}' for i in range(training.shape[1])]\n",
    "\n",
    "\n",
    "# Same for testing\n",
    "testImg = testing.iloc[:, -1]\n",
    "splitTest = testImg.str.split(' ', expand=True)\n",
    "testing = pd.concat([testing.drop(testing.columns[-1], axis=1), splitTest], axis=1)\n",
    "\n",
    "# there was an extra column that was just the index\n",
    "testing.drop(columns=testing.columns[[0]], inplace=True)\n",
    "\n",
    "# Rename the columns to pixel_i\n",
    "testing.columns = ['ImageId'] + [f'pixel_{i}' for i in range(1, testing.shape[1])]"
   ]
  },
  {
   "cell_type": "code",
   "execution_count": 34,
   "metadata": {},
   "outputs": [],
   "source": [
    "# Need to split data into train and test splits\n",
    "X_train, X_test, y_train, y_test = train_test_split(training, y_training, train_size=0.8, test_size=0.2, random_state=10)"
   ]
  },
  {
   "cell_type": "code",
   "execution_count": 35,
   "metadata": {},
   "outputs": [],
   "source": [
    "# Reshape dataframe into numpy array so I can reshape it again\n",
    "X_train = X_train.to_numpy(dtype=np.float32)\n",
    "\n",
    "# Reshape image data so the model can process it as a Tensor\n",
    "X_train = X_train.reshape(5639, 96, 96, 1)\n",
    "X_train = X_train / 255.0\n",
    "\n",
    "# Reshape y_train into a numpy array as well\n",
    "y_train = np.array(y_train, dtype=np.float32)\n",
    "\n",
    "# Reshape test data\n",
    "X_test = X_test.to_numpy(dtype=np.float32)\n",
    "X_test = X_test.reshape(1410, 96, 96, 1)\n",
    "X_test = X_test / 255.0\n",
    "\n",
    "y_test = np.array(y_test, dtype=np.float32)"
   ]
  },
  {
   "cell_type": "code",
   "execution_count": 36,
   "metadata": {},
   "outputs": [
    {
     "name": "stdout",
     "output_type": "stream",
     "text": [
      "Epoch 1/10\n"
     ]
    },
    {
     "name": "stderr",
     "output_type": "stream",
     "text": [
      "/home/mike/anaconda3/envs/CS5640/lib/python3.12/site-packages/keras/src/layers/convolutional/base_conv.py:107: UserWarning: Do not pass an `input_shape`/`input_dim` argument to a layer. When using Sequential models, prefer using an `Input(shape)` object as the first layer in the model instead.\n",
      "  super().__init__(activity_regularizer=activity_regularizer, **kwargs)\n"
     ]
    },
    {
     "name": "stdout",
     "output_type": "stream",
     "text": [
      "\u001b[1m177/177\u001b[0m \u001b[32m━━━━━━━━━━━━━━━━━━━━\u001b[0m\u001b[37m\u001b[0m \u001b[1m7s\u001b[0m 34ms/step - loss: 1286.0601 - mean_squared_error: 1286.0601\n",
      "Epoch 2/10\n",
      "\u001b[1m177/177\u001b[0m \u001b[32m━━━━━━━━━━━━━━━━━━━━\u001b[0m\u001b[37m\u001b[0m \u001b[1m6s\u001b[0m 33ms/step - loss: 917.4705 - mean_squared_error: 917.4705\n",
      "Epoch 3/10\n",
      "\u001b[1m177/177\u001b[0m \u001b[32m━━━━━━━━━━━━━━━━━━━━\u001b[0m\u001b[37m\u001b[0m \u001b[1m6s\u001b[0m 33ms/step - loss: 502.5334 - mean_squared_error: 502.5334\n",
      "Epoch 4/10\n",
      "\u001b[1m177/177\u001b[0m \u001b[32m━━━━━━━━━━━━━━━━━━━━\u001b[0m\u001b[37m\u001b[0m \u001b[1m6s\u001b[0m 33ms/step - loss: 216.3811 - mean_squared_error: 216.3811\n",
      "Epoch 5/10\n",
      "\u001b[1m177/177\u001b[0m \u001b[32m━━━━━━━━━━━━━━━━━━━━\u001b[0m\u001b[37m\u001b[0m \u001b[1m6s\u001b[0m 34ms/step - loss: 112.2513 - mean_squared_error: 112.2513\n",
      "Epoch 6/10\n",
      "\u001b[1m177/177\u001b[0m \u001b[32m━━━━━━━━━━━━━━━━━━━━\u001b[0m\u001b[37m\u001b[0m \u001b[1m6s\u001b[0m 33ms/step - loss: 76.1566 - mean_squared_error: 76.1566\n",
      "Epoch 7/10\n",
      "\u001b[1m177/177\u001b[0m \u001b[32m━━━━━━━━━━━━━━━━━━━━\u001b[0m\u001b[37m\u001b[0m \u001b[1m6s\u001b[0m 33ms/step - loss: 65.9440 - mean_squared_error: 65.9440\n",
      "Epoch 8/10\n",
      "\u001b[1m177/177\u001b[0m \u001b[32m━━━━━━━━━━━━━━━━━━━━\u001b[0m\u001b[37m\u001b[0m \u001b[1m6s\u001b[0m 33ms/step - loss: 55.9570 - mean_squared_error: 55.9570\n",
      "Epoch 9/10\n",
      "\u001b[1m177/177\u001b[0m \u001b[32m━━━━━━━━━━━━━━━━━━━━\u001b[0m\u001b[37m\u001b[0m \u001b[1m6s\u001b[0m 34ms/step - loss: 41.7138 - mean_squared_error: 41.7138\n",
      "Epoch 10/10\n",
      "\u001b[1m177/177\u001b[0m \u001b[32m━━━━━━━━━━━━━━━━━━━━\u001b[0m\u001b[37m\u001b[0m \u001b[1m6s\u001b[0m 34ms/step - loss: 40.0669 - mean_squared_error: 40.0669\n"
     ]
    },
    {
     "data": {
      "text/plain": [
       "<keras.src.callbacks.history.History at 0x771721b7b7a0>"
      ]
     },
     "execution_count": 36,
     "metadata": {},
     "output_type": "execute_result"
    }
   ],
   "source": [
    "# training some basic convolutional models based off of our homework\n",
    "# this has to be a regression model (given that target outputs are floats) so it needs to be a little different\n",
    "\n",
    "model = tf.keras.models.Sequential([\n",
    "      tf.keras.layers.Conv2D(26, (3,3), activation='relu', input_shape=(96, 96, 1)),\n",
    "      tf.keras.layers.BatchNormalization(),\n",
    "      tf.keras.layers.MaxPooling2D(2, 2),\n",
    "      tf.keras.layers.Flatten(),\n",
    "      tf.keras.layers.Dense(64, activation='relu'),\n",
    "      tf.keras.layers.BatchNormalization(),\n",
    "      tf.keras.layers.Dense(30)\n",
    "])\n",
    "model.compile(optimizer=tf.keras.optimizers.Adam(), \n",
    "              loss='mean_squared_error', metrics=['mean_squared_error'])\n",
    "model.fit(X_train_finished, y_train, epochs=10, batch_size=32)"
   ]
  },
  {
   "cell_type": "code",
   "execution_count": 41,
   "metadata": {},
   "outputs": [
    {
     "name": "stdout",
     "output_type": "stream",
     "text": [
      "\u001b[1m45/45\u001b[0m \u001b[32m━━━━━━━━━━━━━━━━━━━━\u001b[0m\u001b[37m\u001b[0m \u001b[1m0s\u001b[0m 5ms/step\n",
      "Mean Squared Error (MSE): 175.158203125\n"
     ]
    }
   ],
   "source": [
    "predictions = model.predict(X_test)\n",
    "\n",
    "mse = mean_squared_error(y_test, predictions)\n",
    "print(f'Mean Squared Error (MSE): {mse}')"
   ]
  },
  {
   "cell_type": "code",
   "execution_count": null,
   "metadata": {},
   "outputs": [],
   "source": []
  }
 ],
 "metadata": {
  "kernelspec": {
   "display_name": "Python [conda env:CS5640]",
   "language": "python",
   "name": "conda-env-CS5640-py"
  },
  "language_info": {
   "codemirror_mode": {
    "name": "ipython",
    "version": 3
   },
   "file_extension": ".py",
   "mimetype": "text/x-python",
   "name": "python",
   "nbconvert_exporter": "python",
   "pygments_lexer": "ipython3",
   "version": "3.12.5"
  }
 },
 "nbformat": 4,
 "nbformat_minor": 4
}
